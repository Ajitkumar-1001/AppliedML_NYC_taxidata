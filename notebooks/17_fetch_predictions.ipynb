{
 "cells": [
  {
   "cell_type": "code",
   "execution_count": 27,
   "id": "1555e775-4045-409a-a2cd-b22934b5fe3b",
   "metadata": {},
   "outputs": [
    {
     "name": "stdout",
     "output_type": "stream",
     "text": [
      "The autoreload extension is already loaded. To reload it, use:\n",
      "  %reload_ext autoreload\n"
     ]
    }
   ],
   "source": [
    "%load_ext autoreload\n",
    "%autoreload 2"
   ]
  },
  {
   "cell_type": "code",
   "execution_count": 28,
   "id": "15e2d67e-a5c7-453c-84e8-a210c608e9f0",
   "metadata": {},
   "outputs": [],
   "source": [
    "import sys\n",
    "import os\n",
    "\n",
    "# Add the parent directory to the Python path\n",
    "sys.path.append(os.path.abspath(os.path.join(os.getcwd(), \"..\")))\n",
    "import src.config as config"
   ]
  },
  {
   "cell_type": "code",
   "execution_count": 29,
   "id": "05248d6f-2194-48dd-a582-77cbda1ad16c",
   "metadata": {},
   "outputs": [
    {
     "name": "stdout",
     "output_type": "stream",
     "text": [
      "Current UTC hour (ceiled): 2025-03-23 20:00:00+00:00\n"
     ]
    }
   ],
   "source": [
    "import src.config as config\n",
    "from src.inference import (\n",
    "    get_feature_store\n",
    ")\n",
    "\n",
    "from datetime import datetime, timezone, timedelta\n",
    "\n",
    "def get_current_utc_hour_ceiled():\n",
    "    \"\"\"Get current UTC time ceiled to the next hour\"\"\"\n",
    "    current = datetime.now(timezone.utc)\n",
    "    if current.minute > 0 or current.second > 0:\n",
    "        # Ceil to next hour\n",
    "        current = current + timedelta(hours=1)\n",
    "\n",
    "    # Reset minutes, seconds, and microseconds\n",
    "    current = current.replace(minute=0, second=0, microsecond=0)\n",
    "    return current\n",
    "\n",
    "# Usage\n",
    "current_hour = get_current_utc_hour_ceiled()\n",
    "print(f\"Current UTC hour (ceiled): {current_hour}\")"
   ]
  },
  {
   "cell_type": "code",
   "execution_count": 30,
   "id": "5c5559a0-89e2-458d-9bbc-b1ec103659f6",
   "metadata": {},
   "outputs": [],
   "source": [
    "def fetch_predictions():\n",
    "    current_date = pd.Timestamp.now(tz='Etc/UTC').ceil('h')\n",
    "\n",
    "    fs = get_feature_store()\n",
    "    fg = fs.get_feature_group(\n",
    "        name=config.FEATURE_GROUP_MODEL_PREDICTION,\n",
    "        version=1\n",
    "    )\n",
    "\n",
    "    query = fg.select_all()\n",
    "    query = query.filter(fg.pickup_hour == current_hour)\n",
    "\n",
    "    return query.read()"
   ]
  },
  {
   "cell_type": "code",
   "execution_count": 31,
   "id": "53a3af64-b773-43a6-bb10-c9e209cc6cb0",
   "metadata": {},
   "outputs": [
    {
     "name": "stdout",
     "output_type": "stream",
     "text": [
      "2025-03-23 15:03:44,078 INFO: Closing external client and cleaning up certificates.\n",
      "Connection closed.\n",
      "2025-03-23 15:03:44,081 INFO: Initializing external client\n",
      "2025-03-23 15:03:44,081 INFO: Base URL: https://c.app.hopsworks.ai:443\n",
      "2025-03-23 15:03:45,127 INFO: Python Engine initialized.\n",
      "\n",
      "Logged in to project, explore it here https://c.app.hopsworks.ai:443/p/1214685\n"
     ]
    }
   ],
   "source": [
    "fs = get_feature_store()\n",
    "fg = fs.get_feature_group(\n",
    "    name=config.FEATURE_GROUP_MODEL_PREDICTION,\n",
    "    version=1\n",
    ")\n",
    "\n",
    "query = fg.select_all()"
   ]
  },
  {
   "cell_type": "code",
   "execution_count": 32,
   "id": "c6321059-d894-4f75-94c8-b4ea29bf8ea5",
   "metadata": {},
   "outputs": [
    {
     "name": "stdout",
     "output_type": "stream",
     "text": [
      "Finished: Reading data from Hopsworks, using Hopsworks Feature Query Service (0.92s) \n"
     ]
    }
   ],
   "source": [
    "df= query.read()"
   ]
  },
  {
   "cell_type": "code",
   "execution_count": 33,
   "id": "367f3978-9a5d-4d97-b19a-88afcfb1d14f",
   "metadata": {},
   "outputs": [
    {
     "data": {
      "text/plain": [
       "Timestamp('2025-03-23 19:00:00+0000', tz='Etc/UTC')"
      ]
     },
     "execution_count": 33,
     "metadata": {},
     "output_type": "execute_result"
    }
   ],
   "source": [
    "df[\"pickup_hour\"].max()"
   ]
  },
  {
   "cell_type": "code",
   "execution_count": 34,
   "id": "8d03786a-90dc-425a-8e4e-3b4dca4a08fa",
   "metadata": {},
   "outputs": [
    {
     "data": {
      "text/html": [
       "<div>\n",
       "<style scoped>\n",
       "    .dataframe tbody tr th:only-of-type {\n",
       "        vertical-align: middle;\n",
       "    }\n",
       "\n",
       "    .dataframe tbody tr th {\n",
       "        vertical-align: top;\n",
       "    }\n",
       "\n",
       "    .dataframe thead th {\n",
       "        text-align: right;\n",
       "    }\n",
       "</style>\n",
       "<table border=\"1\" class=\"dataframe\">\n",
       "  <thead>\n",
       "    <tr style=\"text-align: right;\">\n",
       "      <th></th>\n",
       "      <th>pickup_location_id</th>\n",
       "      <th>predicted_demand</th>\n",
       "      <th>pickup_hour</th>\n",
       "    </tr>\n",
       "  </thead>\n",
       "  <tbody>\n",
       "    <tr>\n",
       "      <th>0</th>\n",
       "      <td>176</td>\n",
       "      <td>0.0</td>\n",
       "      <td>2025-03-06 18:00:00+00:00</td>\n",
       "    </tr>\n",
       "    <tr>\n",
       "      <th>1</th>\n",
       "      <td>234</td>\n",
       "      <td>131.0</td>\n",
       "      <td>2025-03-06 18:00:00+00:00</td>\n",
       "    </tr>\n",
       "    <tr>\n",
       "      <th>2</th>\n",
       "      <td>31</td>\n",
       "      <td>0.0</td>\n",
       "      <td>2025-03-06 18:00:00+00:00</td>\n",
       "    </tr>\n",
       "    <tr>\n",
       "      <th>3</th>\n",
       "      <td>255</td>\n",
       "      <td>1.0</td>\n",
       "      <td>2025-03-06 18:00:00+00:00</td>\n",
       "    </tr>\n",
       "    <tr>\n",
       "      <th>4</th>\n",
       "      <td>43</td>\n",
       "      <td>71.0</td>\n",
       "      <td>2025-03-06 18:00:00+00:00</td>\n",
       "    </tr>\n",
       "    <tr>\n",
       "      <th>...</th>\n",
       "      <td>...</td>\n",
       "      <td>...</td>\n",
       "      <td>...</td>\n",
       "    </tr>\n",
       "    <tr>\n",
       "      <th>88387</th>\n",
       "      <td>233</td>\n",
       "      <td>87.0</td>\n",
       "      <td>2025-03-23 19:00:00+00:00</td>\n",
       "    </tr>\n",
       "    <tr>\n",
       "      <th>88388</th>\n",
       "      <td>183</td>\n",
       "      <td>0.0</td>\n",
       "      <td>2025-03-23 19:00:00+00:00</td>\n",
       "    </tr>\n",
       "    <tr>\n",
       "      <th>88389</th>\n",
       "      <td>82</td>\n",
       "      <td>1.0</td>\n",
       "      <td>2025-03-23 19:00:00+00:00</td>\n",
       "    </tr>\n",
       "    <tr>\n",
       "      <th>88390</th>\n",
       "      <td>68</td>\n",
       "      <td>162.0</td>\n",
       "      <td>2025-03-23 19:00:00+00:00</td>\n",
       "    </tr>\n",
       "    <tr>\n",
       "      <th>88391</th>\n",
       "      <td>169</td>\n",
       "      <td>0.0</td>\n",
       "      <td>2025-03-23 19:00:00+00:00</td>\n",
       "    </tr>\n",
       "  </tbody>\n",
       "</table>\n",
       "<p>88392 rows × 3 columns</p>\n",
       "</div>"
      ],
      "text/plain": [
       "       pickup_location_id  predicted_demand               pickup_hour\n",
       "0                     176               0.0 2025-03-06 18:00:00+00:00\n",
       "1                     234             131.0 2025-03-06 18:00:00+00:00\n",
       "2                      31               0.0 2025-03-06 18:00:00+00:00\n",
       "3                     255               1.0 2025-03-06 18:00:00+00:00\n",
       "4                      43              71.0 2025-03-06 18:00:00+00:00\n",
       "...                   ...               ...                       ...\n",
       "88387                 233              87.0 2025-03-23 19:00:00+00:00\n",
       "88388                 183               0.0 2025-03-23 19:00:00+00:00\n",
       "88389                  82               1.0 2025-03-23 19:00:00+00:00\n",
       "88390                  68             162.0 2025-03-23 19:00:00+00:00\n",
       "88391                 169               0.0 2025-03-23 19:00:00+00:00\n",
       "\n",
       "[88392 rows x 3 columns]"
      ]
     },
     "execution_count": 34,
     "metadata": {},
     "output_type": "execute_result"
    }
   ],
   "source": [
    "df"
   ]
  },
  {
   "cell_type": "code",
   "execution_count": 35,
   "id": "90415d0c-053a-4fba-94dd-eb6d231875bd",
   "metadata": {},
   "outputs": [],
   "source": [
    "#a.info()"
   ]
  },
  {
   "cell_type": "code",
   "execution_count": 36,
   "id": "39ea132b-5a59-44cb-b155-fa765164e3cc",
   "metadata": {},
   "outputs": [
    {
     "name": "stdout",
     "output_type": "stream",
     "text": [
      "2025-03-23 15:03:48,147 INFO: Closing external client and cleaning up certificates.\n",
      "Connection closed.\n",
      "2025-03-23 15:03:48,149 INFO: Initializing external client\n",
      "2025-03-23 15:03:48,149 INFO: Base URL: https://c.app.hopsworks.ai:443\n",
      "2025-03-23 15:03:48,870 INFO: Python Engine initialized.\n",
      "\n",
      "Logged in to project, explore it here https://c.app.hopsworks.ai:443/p/1214685\n",
      "Current UTC time: 2025-03-23 19:03:48.147019+00:00\n",
      "Next hour: 2025-03-23 20:00:00+00:00\n",
      "Querying for date range: 2025-03-23 to 2025-03-24\n",
      "Filtering for hour: 2025-03-23 20:00\n",
      "Found 0 records\n"
     ]
    }
   ],
   "source": [
    "from datetime import datetime, timezone, timedelta\n",
    "\n",
    "def fetch_next_hour_predictions():\n",
    "    # Get current UTC time and round up to next hour\n",
    "    now = datetime.now(timezone.utc)\n",
    "    next_hour = (now + timedelta(hours=1)).replace(minute=0, second=0, microsecond=0)\n",
    "\n",
    "    # Extract components from the rounded-up time\n",
    "    year = next_hour.year\n",
    "    month = next_hour.month\n",
    "    day = next_hour.day\n",
    "    hour = next_hour.hour\n",
    "\n",
    "    # Create date strings in YYYY-MM-DD format\n",
    "    current_date = f\"{year}-{month:02d}-{day:02d}\"\n",
    "    next_date = next_hour + timedelta(days=1)\n",
    "    next_date_str = next_date.strftime(\"%Y-%m-%d\")\n",
    "\n",
    "    fs = get_feature_store()\n",
    "    fg = fs.get_feature_group(\n",
    "        name=config.FEATURE_GROUP_MODEL_PREDICTION,\n",
    "        version=1\n",
    "    )\n",
    "\n",
    "    # # First get the full day's data from Hopsworks\n",
    "    # df = fg.filter(\n",
    "    #     (fg.pickup_hour >= current_date) &\n",
    "    #     (fg.pickup_hour < next_date_str)\n",
    "    # ).read()\n",
    "\n",
    "    # Then filter for next hour in the DataFrame\n",
    "    hour_str = f\"{current_date} {hour:02d}:00\"\n",
    "    df_hour = df[df['pickup_hour'] == hour_str]\n",
    "\n",
    "    print(f\"Current UTC time: {now}\")\n",
    "    print(f\"Next hour: {next_hour}\")\n",
    "    print(f\"Querying for date range: {current_date} to {next_date_str}\")\n",
    "    print(f\"Filtering for hour: {hour_str}\")\n",
    "    print(f\"Found {len(df_hour)} records\")\n",
    "    return df_hour\n",
    "\n",
    "# Example usage:\n",
    "predictions = fetch_next_hour_predictions()"
   ]
  },
  {
   "cell_type": "code",
   "execution_count": 37,
   "id": "4c512f98-d569-4a9f-8391-d301b1226c91",
   "metadata": {},
   "outputs": [],
   "source": [
    "now = datetime.now(timezone.utc)"
   ]
  },
  {
   "cell_type": "code",
   "execution_count": 38,
   "id": "0e5671d3-701d-4fca-bb91-a697f622239a",
   "metadata": {},
   "outputs": [
    {
     "data": {
      "text/html": [
       "<div>\n",
       "<style scoped>\n",
       "    .dataframe tbody tr th:only-of-type {\n",
       "        vertical-align: middle;\n",
       "    }\n",
       "\n",
       "    .dataframe tbody tr th {\n",
       "        vertical-align: top;\n",
       "    }\n",
       "\n",
       "    .dataframe thead th {\n",
       "        text-align: right;\n",
       "    }\n",
       "</style>\n",
       "<table border=\"1\" class=\"dataframe\">\n",
       "  <thead>\n",
       "    <tr style=\"text-align: right;\">\n",
       "      <th></th>\n",
       "      <th>pickup_location_id</th>\n",
       "      <th>predicted_demand</th>\n",
       "      <th>pickup_hour</th>\n",
       "    </tr>\n",
       "  </thead>\n",
       "  <tbody>\n",
       "  </tbody>\n",
       "</table>\n",
       "</div>"
      ],
      "text/plain": [
       "Empty DataFrame\n",
       "Columns: [pickup_location_id, predicted_demand, pickup_hour]\n",
       "Index: []"
      ]
     },
     "execution_count": 38,
     "metadata": {},
     "output_type": "execute_result"
    }
   ],
   "source": [
    "predictions"
   ]
  },
  {
   "cell_type": "code",
   "execution_count": 39,
   "id": "48c2c460-25c6-4c26-84e8-ae82a1fdcf33",
   "metadata": {},
   "outputs": [
    {
     "name": "stdout",
     "output_type": "stream",
     "text": [
      "<class 'pandas.core.frame.DataFrame'>\n",
      "RangeIndex: 88392 entries, 0 to 88391\n",
      "Data columns (total 3 columns):\n",
      " #   Column              Non-Null Count  Dtype                  \n",
      "---  ------              --------------  -----                  \n",
      " 0   pickup_location_id  88392 non-null  int32                  \n",
      " 1   predicted_demand    88392 non-null  float64                \n",
      " 2   pickup_hour         88392 non-null  datetime64[us, Etc/UTC]\n",
      "dtypes: datetime64[us, Etc/UTC](1), float64(1), int32(1)\n",
      "memory usage: 1.7 MB\n"
     ]
    }
   ],
   "source": [
    "df.info()"
   ]
  },
  {
   "cell_type": "code",
   "execution_count": 40,
   "id": "5930b159-b4e4-4b51-acd9-0b7b167b6236",
   "metadata": {},
   "outputs": [],
   "source": [
    "import pandas as pd\n",
    "current_date = pd.Timestamp.now(tz='Etc/UTC').ceil('h')"
   ]
  },
  {
   "cell_type": "code",
   "execution_count": 41,
   "id": "14cb7cca-beba-4017-9fa0-5ad7b6acfe90",
   "metadata": {},
   "outputs": [],
   "source": [
    "dt = current_date.ceil('h')\n"
   ]
  },
  {
   "cell_type": "code",
   "execution_count": 42,
   "id": "455e4d11-8a5a-434c-b634-bbf9edd02bd7",
   "metadata": {},
   "outputs": [
    {
     "name": "stdout",
     "output_type": "stream",
     "text": [
      "2025-03-23 15:03:50,008 INFO: Closing external client and cleaning up certificates.\n",
      "Connection closed.\n",
      "2025-03-23 15:03:50,009 INFO: Initializing external client\n",
      "2025-03-23 15:03:50,009 INFO: Base URL: https://c.app.hopsworks.ai:443\n",
      "2025-03-23 15:03:50,670 INFO: Python Engine initialized.\n",
      "\n",
      "Logged in to project, explore it here https://c.app.hopsworks.ai:443/p/1214685\n",
      "Finished: Reading data from Hopsworks, using Hopsworks Feature Query Service (0.91s) \n"
     ]
    }
   ],
   "source": [
    "fs = get_feature_store()  \n",
    "fg = fs.get_feature_group(  \n",
    "    name=config.FEATURE_GROUP_MODEL_PREDICTION,  \n",
    "    version=1  \n",
    ")  \n",
    "query = fg.select_all() \n",
    "# query = query.filter(fg.pickup_hour >= \"2025-02-13 04:00\")\n",
    "query = query.filter(fg.pickup_hour > \"2025-02-13 05:00:00\")  \n",
    "results = query.read()"
   ]
  },
  {
   "cell_type": "code",
   "execution_count": 43,
   "id": "fab34fc8-2594-4dfd-8046-fa7ede562979",
   "metadata": {},
   "outputs": [
    {
     "name": "stdout",
     "output_type": "stream",
     "text": [
      "Finished: Reading data from Hopsworks, using Hopsworks Feature Query Service (0.78s) \n"
     ]
    },
    {
     "data": {
      "text/html": [
       "<div>\n",
       "<style scoped>\n",
       "    .dataframe tbody tr th:only-of-type {\n",
       "        vertical-align: middle;\n",
       "    }\n",
       "\n",
       "    .dataframe tbody tr th {\n",
       "        vertical-align: top;\n",
       "    }\n",
       "\n",
       "    .dataframe thead th {\n",
       "        text-align: right;\n",
       "    }\n",
       "</style>\n",
       "<table border=\"1\" class=\"dataframe\">\n",
       "  <thead>\n",
       "    <tr style=\"text-align: right;\">\n",
       "      <th></th>\n",
       "      <th>pickup_location_id</th>\n",
       "      <th>predicted_demand</th>\n",
       "      <th>pickup_hour</th>\n",
       "    </tr>\n",
       "  </thead>\n",
       "  <tbody>\n",
       "  </tbody>\n",
       "</table>\n",
       "</div>"
      ],
      "text/plain": [
       "Empty DataFrame\n",
       "Columns: [pickup_location_id, predicted_demand, pickup_hour]\n",
       "Index: []"
      ]
     },
     "execution_count": 43,
     "metadata": {},
     "output_type": "execute_result"
    }
   ],
   "source": [
    "fg.filter((fg.pickup_hour >= \"2025-02-13\") & (fg.pickup_hour < \"2025-02-14\")).read()"
   ]
  },
  {
   "cell_type": "code",
   "execution_count": 44,
   "id": "bb732f4b-65ee-4956-87b5-c9a9c2f367b3",
   "metadata": {},
   "outputs": [
    {
     "data": {
      "text/html": [
       "<div>\n",
       "<style scoped>\n",
       "    .dataframe tbody tr th:only-of-type {\n",
       "        vertical-align: middle;\n",
       "    }\n",
       "\n",
       "    .dataframe tbody tr th {\n",
       "        vertical-align: top;\n",
       "    }\n",
       "\n",
       "    .dataframe thead th {\n",
       "        text-align: right;\n",
       "    }\n",
       "</style>\n",
       "<table border=\"1\" class=\"dataframe\">\n",
       "  <thead>\n",
       "    <tr style=\"text-align: right;\">\n",
       "      <th></th>\n",
       "      <th>pickup_location_id</th>\n",
       "      <th>predicted_demand</th>\n",
       "      <th>pickup_hour</th>\n",
       "    </tr>\n",
       "  </thead>\n",
       "  <tbody>\n",
       "    <tr>\n",
       "      <th>0</th>\n",
       "      <td>176</td>\n",
       "      <td>0.0</td>\n",
       "      <td>2025-03-06 18:00:00+00:00</td>\n",
       "    </tr>\n",
       "    <tr>\n",
       "      <th>1</th>\n",
       "      <td>234</td>\n",
       "      <td>131.0</td>\n",
       "      <td>2025-03-06 18:00:00+00:00</td>\n",
       "    </tr>\n",
       "    <tr>\n",
       "      <th>2</th>\n",
       "      <td>31</td>\n",
       "      <td>0.0</td>\n",
       "      <td>2025-03-06 18:00:00+00:00</td>\n",
       "    </tr>\n",
       "    <tr>\n",
       "      <th>3</th>\n",
       "      <td>255</td>\n",
       "      <td>1.0</td>\n",
       "      <td>2025-03-06 18:00:00+00:00</td>\n",
       "    </tr>\n",
       "    <tr>\n",
       "      <th>4</th>\n",
       "      <td>43</td>\n",
       "      <td>71.0</td>\n",
       "      <td>2025-03-06 18:00:00+00:00</td>\n",
       "    </tr>\n",
       "    <tr>\n",
       "      <th>...</th>\n",
       "      <td>...</td>\n",
       "      <td>...</td>\n",
       "      <td>...</td>\n",
       "    </tr>\n",
       "    <tr>\n",
       "      <th>88387</th>\n",
       "      <td>233</td>\n",
       "      <td>87.0</td>\n",
       "      <td>2025-03-23 19:00:00+00:00</td>\n",
       "    </tr>\n",
       "    <tr>\n",
       "      <th>88388</th>\n",
       "      <td>183</td>\n",
       "      <td>0.0</td>\n",
       "      <td>2025-03-23 19:00:00+00:00</td>\n",
       "    </tr>\n",
       "    <tr>\n",
       "      <th>88389</th>\n",
       "      <td>82</td>\n",
       "      <td>1.0</td>\n",
       "      <td>2025-03-23 19:00:00+00:00</td>\n",
       "    </tr>\n",
       "    <tr>\n",
       "      <th>88390</th>\n",
       "      <td>68</td>\n",
       "      <td>162.0</td>\n",
       "      <td>2025-03-23 19:00:00+00:00</td>\n",
       "    </tr>\n",
       "    <tr>\n",
       "      <th>88391</th>\n",
       "      <td>169</td>\n",
       "      <td>0.0</td>\n",
       "      <td>2025-03-23 19:00:00+00:00</td>\n",
       "    </tr>\n",
       "  </tbody>\n",
       "</table>\n",
       "<p>88392 rows × 3 columns</p>\n",
       "</div>"
      ],
      "text/plain": [
       "       pickup_location_id  predicted_demand               pickup_hour\n",
       "0                     176               0.0 2025-03-06 18:00:00+00:00\n",
       "1                     234             131.0 2025-03-06 18:00:00+00:00\n",
       "2                      31               0.0 2025-03-06 18:00:00+00:00\n",
       "3                     255               1.0 2025-03-06 18:00:00+00:00\n",
       "4                      43              71.0 2025-03-06 18:00:00+00:00\n",
       "...                   ...               ...                       ...\n",
       "88387                 233              87.0 2025-03-23 19:00:00+00:00\n",
       "88388                 183               0.0 2025-03-23 19:00:00+00:00\n",
       "88389                  82               1.0 2025-03-23 19:00:00+00:00\n",
       "88390                  68             162.0 2025-03-23 19:00:00+00:00\n",
       "88391                 169               0.0 2025-03-23 19:00:00+00:00\n",
       "\n",
       "[88392 rows x 3 columns]"
      ]
     },
     "execution_count": 44,
     "metadata": {},
     "output_type": "execute_result"
    }
   ],
   "source": [
    "results"
   ]
  },
  {
   "cell_type": "code",
   "execution_count": 45,
   "id": "3015ad82-b0b7-42e0-b6e3-6e69550da93a",
   "metadata": {},
   "outputs": [],
   "source": [
    "def fetch_next_hour_predictions():\n",
    "    # Get current UTC time and round up to next hour\n",
    "    now = datetime.now(timezone.utc)\n",
    "    next_hour = (now + timedelta(hours=2)).replace(minute=0, second=0, microsecond=0)\n",
    "\n",
    "    fs = get_feature_store()\n",
    "    fg = fs.get_feature_group(name=config.FEATURE_GROUP_MODEL_PREDICTION, version=1)\n",
    "\n",
    "    # Then filter for next hour in the DataFrame\n",
    "    df_hour = df[df[\"pickup_hour\"] == next_hour]\n",
    "\n",
    "    print(f\"Current UTC time: {now}\")\n",
    "    print(f\"Next hour: {next_hour}\")\n",
    "    print(f\"Found {len(df_hour)} records\")\n",
    "    return df_hour"
   ]
  },
  {
   "cell_type": "code",
   "execution_count": 46,
   "id": "1a42dc2b-f1b3-40a2-8610-1bed9c822355",
   "metadata": {},
   "outputs": [
    {
     "name": "stdout",
     "output_type": "stream",
     "text": [
      "2025-03-23 15:03:54,918 INFO: Closing external client and cleaning up certificates.\n",
      "Connection closed.\n",
      "2025-03-23 15:03:54,920 INFO: Initializing external client\n",
      "2025-03-23 15:03:54,920 INFO: Base URL: https://c.app.hopsworks.ai:443\n",
      "2025-03-23 15:03:55,670 INFO: Python Engine initialized.\n",
      "\n",
      "Logged in to project, explore it here https://c.app.hopsworks.ai:443/p/1214685\n",
      "Current UTC time: 2025-03-23 19:03:54.918156+00:00\n",
      "Next hour: 2025-03-23 21:00:00+00:00\n",
      "Found 0 records\n"
     ]
    }
   ],
   "source": [
    "predictions = fetch_next_hour_predictions()"
   ]
  },
  {
   "cell_type": "code",
   "execution_count": 47,
   "id": "6495da67-1068-41e0-9092-458c11626900",
   "metadata": {},
   "outputs": [
    {
     "name": "stdout",
     "output_type": "stream",
     "text": [
      "2025-03-23 15:03:56,711 INFO: Closing external client and cleaning up certificates.\n"
     ]
    },
    {
     "name": "stdout",
     "output_type": "stream",
     "text": [
      "Connection closed.\n",
      "2025-03-23 15:03:56,713 INFO: Initializing external client\n",
      "2025-03-23 15:03:56,713 INFO: Base URL: https://c.app.hopsworks.ai:443\n",
      "2025-03-23 15:03:57,404 INFO: Python Engine initialized.\n",
      "\n",
      "Logged in to project, explore it here https://c.app.hopsworks.ai:443/p/1214685\n"
     ]
    }
   ],
   "source": [
    "fs = get_feature_store()\n",
    "fg = fs.get_feature_group(name=config.FEATURE_GROUP_MODEL_PREDICTION, version=1)\n",
    "\n"
   ]
  },
  {
   "cell_type": "code",
   "execution_count": 48,
   "id": "9761c899-38c7-4560-9226-d41ce20811df",
   "metadata": {},
   "outputs": [
    {
     "name": "stdout",
     "output_type": "stream",
     "text": [
      "Finished: Reading data from Hopsworks, using Hopsworks Feature Query Service (0.82s) \n"
     ]
    }
   ],
   "source": [
    "df = fg.read()"
   ]
  },
  {
   "cell_type": "code",
   "execution_count": 49,
   "id": "f9bc2a28",
   "metadata": {},
   "outputs": [
    {
     "data": {
      "text/html": [
       "<div>\n",
       "<style scoped>\n",
       "    .dataframe tbody tr th:only-of-type {\n",
       "        vertical-align: middle;\n",
       "    }\n",
       "\n",
       "    .dataframe tbody tr th {\n",
       "        vertical-align: top;\n",
       "    }\n",
       "\n",
       "    .dataframe thead th {\n",
       "        text-align: right;\n",
       "    }\n",
       "</style>\n",
       "<table border=\"1\" class=\"dataframe\">\n",
       "  <thead>\n",
       "    <tr style=\"text-align: right;\">\n",
       "      <th></th>\n",
       "      <th>pickup_location_id</th>\n",
       "      <th>predicted_demand</th>\n",
       "      <th>pickup_hour</th>\n",
       "    </tr>\n",
       "  </thead>\n",
       "  <tbody>\n",
       "    <tr>\n",
       "      <th>0</th>\n",
       "      <td>176</td>\n",
       "      <td>0.0</td>\n",
       "      <td>2025-03-06 18:00:00+00:00</td>\n",
       "    </tr>\n",
       "    <tr>\n",
       "      <th>1</th>\n",
       "      <td>234</td>\n",
       "      <td>131.0</td>\n",
       "      <td>2025-03-06 18:00:00+00:00</td>\n",
       "    </tr>\n",
       "    <tr>\n",
       "      <th>2</th>\n",
       "      <td>31</td>\n",
       "      <td>0.0</td>\n",
       "      <td>2025-03-06 18:00:00+00:00</td>\n",
       "    </tr>\n",
       "    <tr>\n",
       "      <th>3</th>\n",
       "      <td>255</td>\n",
       "      <td>1.0</td>\n",
       "      <td>2025-03-06 18:00:00+00:00</td>\n",
       "    </tr>\n",
       "    <tr>\n",
       "      <th>4</th>\n",
       "      <td>43</td>\n",
       "      <td>71.0</td>\n",
       "      <td>2025-03-06 18:00:00+00:00</td>\n",
       "    </tr>\n",
       "    <tr>\n",
       "      <th>...</th>\n",
       "      <td>...</td>\n",
       "      <td>...</td>\n",
       "      <td>...</td>\n",
       "    </tr>\n",
       "    <tr>\n",
       "      <th>88387</th>\n",
       "      <td>233</td>\n",
       "      <td>87.0</td>\n",
       "      <td>2025-03-23 19:00:00+00:00</td>\n",
       "    </tr>\n",
       "    <tr>\n",
       "      <th>88388</th>\n",
       "      <td>183</td>\n",
       "      <td>0.0</td>\n",
       "      <td>2025-03-23 19:00:00+00:00</td>\n",
       "    </tr>\n",
       "    <tr>\n",
       "      <th>88389</th>\n",
       "      <td>82</td>\n",
       "      <td>1.0</td>\n",
       "      <td>2025-03-23 19:00:00+00:00</td>\n",
       "    </tr>\n",
       "    <tr>\n",
       "      <th>88390</th>\n",
       "      <td>68</td>\n",
       "      <td>162.0</td>\n",
       "      <td>2025-03-23 19:00:00+00:00</td>\n",
       "    </tr>\n",
       "    <tr>\n",
       "      <th>88391</th>\n",
       "      <td>169</td>\n",
       "      <td>0.0</td>\n",
       "      <td>2025-03-23 19:00:00+00:00</td>\n",
       "    </tr>\n",
       "  </tbody>\n",
       "</table>\n",
       "<p>88392 rows × 3 columns</p>\n",
       "</div>"
      ],
      "text/plain": [
       "       pickup_location_id  predicted_demand               pickup_hour\n",
       "0                     176               0.0 2025-03-06 18:00:00+00:00\n",
       "1                     234             131.0 2025-03-06 18:00:00+00:00\n",
       "2                      31               0.0 2025-03-06 18:00:00+00:00\n",
       "3                     255               1.0 2025-03-06 18:00:00+00:00\n",
       "4                      43              71.0 2025-03-06 18:00:00+00:00\n",
       "...                   ...               ...                       ...\n",
       "88387                 233              87.0 2025-03-23 19:00:00+00:00\n",
       "88388                 183               0.0 2025-03-23 19:00:00+00:00\n",
       "88389                  82               1.0 2025-03-23 19:00:00+00:00\n",
       "88390                  68             162.0 2025-03-23 19:00:00+00:00\n",
       "88391                 169               0.0 2025-03-23 19:00:00+00:00\n",
       "\n",
       "[88392 rows x 3 columns]"
      ]
     },
     "execution_count": 49,
     "metadata": {},
     "output_type": "execute_result"
    }
   ],
   "source": [
    "df"
   ]
  },
  {
   "cell_type": "code",
   "execution_count": 50,
   "id": "90052c02-a072-423f-95d5-086c1ca786eb",
   "metadata": {},
   "outputs": [
    {
     "data": {
      "text/plain": [
       "Timestamp('2025-03-23 19:00:00+0000', tz='Etc/UTC')"
      ]
     },
     "execution_count": 50,
     "metadata": {},
     "output_type": "execute_result"
    }
   ],
   "source": [
    "df[\"pickup_hour\"].max()"
   ]
  },
  {
   "cell_type": "code",
   "execution_count": 51,
   "id": "30f5c3e8-156e-44a5-ac8a-ccb1479a6936",
   "metadata": {},
   "outputs": [
    {
     "name": "stdout",
     "output_type": "stream",
     "text": [
      "2025-03-23 20:00:00+00:00\n"
     ]
    }
   ],
   "source": [
    "now = datetime.now(timezone.utc)\n",
    "next_hour = (now + timedelta(hours=1)).replace(minute=0, second=0, microsecond=0)\n",
    "print(next_hour)"
   ]
  },
  {
   "cell_type": "code",
   "execution_count": 52,
   "id": "02ebe046-ae58-489e-99e7-a4f27755a10f",
   "metadata": {},
   "outputs": [
    {
     "data": {
      "text/html": [
       "<div>\n",
       "<style scoped>\n",
       "    .dataframe tbody tr th:only-of-type {\n",
       "        vertical-align: middle;\n",
       "    }\n",
       "\n",
       "    .dataframe tbody tr th {\n",
       "        vertical-align: top;\n",
       "    }\n",
       "\n",
       "    .dataframe thead th {\n",
       "        text-align: right;\n",
       "    }\n",
       "</style>\n",
       "<table border=\"1\" class=\"dataframe\">\n",
       "  <thead>\n",
       "    <tr style=\"text-align: right;\">\n",
       "      <th></th>\n",
       "      <th>pickup_location_id</th>\n",
       "      <th>predicted_demand</th>\n",
       "      <th>pickup_hour</th>\n",
       "    </tr>\n",
       "  </thead>\n",
       "  <tbody>\n",
       "  </tbody>\n",
       "</table>\n",
       "</div>"
      ],
      "text/plain": [
       "Empty DataFrame\n",
       "Columns: [pickup_location_id, predicted_demand, pickup_hour]\n",
       "Index: []"
      ]
     },
     "execution_count": 52,
     "metadata": {},
     "output_type": "execute_result"
    }
   ],
   "source": [
    "df[df[\"pickup_hour\"] == next_hour]"
   ]
  }
 ],
 "metadata": {
  "kernelspec": {
   "display_name": "Appliedml_conda_Env",
   "language": "python",
   "name": "python3"
  },
  "language_info": {
   "codemirror_mode": {
    "name": "ipython",
    "version": 3
   },
   "file_extension": ".py",
   "mimetype": "text/x-python",
   "name": "python",
   "nbconvert_exporter": "python",
   "pygments_lexer": "ipython3",
   "version": "3.9.21"
  }
 },
 "nbformat": 4,
 "nbformat_minor": 5
}
